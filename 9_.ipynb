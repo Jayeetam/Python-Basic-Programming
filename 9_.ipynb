{
 "cells": [
  {
   "cell_type": "markdown",
   "metadata": {},
   "source": [
    "## 1. Write a Python program to check if the given number is a Disarium Number?"
   ]
  },
  {
   "cell_type": "code",
   "execution_count": 6,
   "metadata": {},
   "outputs": [
    {
     "name": "stdout",
     "output_type": "stream",
     "text": [
      "175\n",
      "Disarium Number!\n"
     ]
    }
   ],
   "source": [
    "n =input()\n",
    "len_n = len(n)\n",
    "n=int(n)\n",
    "copy_n=n\n",
    "result = 0\n",
    "i = len_n\n",
    "while(n!=0):\n",
    "    digit = n%10\n",
    "    result=result+pow(digit,i)\n",
    "    n=int(n/10)\n",
    "    i = i - 1\n",
    "if(result==copy_n):\n",
    "    print(\"Disarium Number!\")\n",
    "else:\n",
    "    print(\"Not an Disarium Number!\")"
   ]
  },
  {
   "cell_type": "markdown",
   "metadata": {},
   "source": [
    "## 2. Write a Python program to print all disarium numbers between 1 to 100?"
   ]
  },
  {
   "cell_type": "code",
   "execution_count": 14,
   "metadata": {},
   "outputs": [
    {
     "name": "stdout",
     "output_type": "stream",
     "text": [
      "Disarium numbers between 1 and 100 are\n",
      "1  2  3  4  5  6  7  8  9  89  "
     ]
    }
   ],
   "source": [
    "def Length(n):    \n",
    "    length = 0;    \n",
    "    while(n != 0):    \n",
    "        length = length + 1;    \n",
    "        n = n//10;    \n",
    "    return length;    \n",
    "        \n",
    "def sumOfDigits(num):    \n",
    "    rem = sum = 0;    \n",
    "    len = Length(num);    \n",
    "        \n",
    "    while(num > 0):    \n",
    "        rem = num%10;    \n",
    "        sum = sum + (rem**len);    \n",
    "        num = num//10;    \n",
    "        len = len - 1;    \n",
    "    return sum;    \n",
    "      \n",
    "result = 0;    \n",
    "        \n",
    "print(\"Disarium numbers between 1 and 100 are\");    \n",
    "for i in range(1, 101):    \n",
    "    result = sumOfDigits(i);    \n",
    "        \n",
    "    if(result == i):    \n",
    "        print(i, end=\"  \")    "
   ]
  },
  {
   "cell_type": "markdown",
   "metadata": {},
   "source": [
    "## 3. Write a Python program to check if the given number is Happy Number?"
   ]
  },
  {
   "cell_type": "code",
   "execution_count": 14,
   "metadata": {},
   "outputs": [],
   "source": [
    "def AddNum(num):\n",
    "    total = 0\n",
    "    temp_num = num\n",
    "    while temp_num > 0:\n",
    "        pos = temp_num % 10            \n",
    "        total += pos**2\n",
    "        temp_num = temp_num//10\n",
    "    return total\n",
    "\n",
    "def IsHappyNum():\n",
    "    num = input('Enter a number to check for Happy Number :')\n",
    "    try:\n",
    "        num = int(num)\n",
    "        res = num\n",
    "        while(res != 1 and res != 4):\n",
    "            res = AddNum(res)\n",
    "        if (res == 1):\n",
    "            print (f'{num} is a Happy Number!')\n",
    "        elif (res == 4):\n",
    "            print (f'{num} is not a Happy Number!')\n",
    "    except Exception as e:\n",
    "        print ('Error Occured :',e)"
   ]
  },
  {
   "cell_type": "code",
   "execution_count": 15,
   "metadata": {},
   "outputs": [
    {
     "name": "stdout",
     "output_type": "stream",
     "text": [
      "Enter a number to check for Happy Number :90\n",
      "90 is not a Happy Number!\n"
     ]
    }
   ],
   "source": [
    "IsHappyNum()"
   ]
  },
  {
   "cell_type": "markdown",
   "metadata": {},
   "source": [
    "## 4. Write a Python program to print all happy numbers between 1 and 100?"
   ]
  },
  {
   "cell_type": "code",
   "execution_count": 3,
   "metadata": {},
   "outputs": [],
   "source": [
    "def ChkHappyNum(num):\n",
    "    try:\n",
    "        num = int(num)\n",
    "        res = num\n",
    "        while(res != 1 and res != 4):\n",
    "            res = AddNum(res)\n",
    "        if (res == 1):\n",
    "            return True\n",
    "        elif (res == 4):\n",
    "            return False\n",
    "    except Exception as e:\n",
    "        print ('Error Occured :',e)\n",
    "\n",
    "def FindHappy(start,end):\n",
    "    nums = []\n",
    "    for i in range(start,end+1):\n",
    "        res = ChkHappyNum(i)\n",
    "        if res:\n",
    "            nums.append(i)\n",
    "    if len(nums)>0:\n",
    "        print (f\"Happy numbers(s) in the interval {start} to {end} is: {nums}\")\n",
    "    else:\n",
    "        print (f\"There is no Happy number in the interval {start} to {end}.\")"
   ]
  },
  {
   "cell_type": "code",
   "execution_count": 5,
   "metadata": {},
   "outputs": [
    {
     "name": "stdout",
     "output_type": "stream",
     "text": [
      "Happy numbers(s) in the interval 1 to 100 is: [1, 7, 10, 13, 19, 23, 28, 31, 32, 44, 49, 68, 70, 79, 82, 86, 91, 94, 97, 100]\n"
     ]
    }
   ],
   "source": [
    "FindHappy(1,100)"
   ]
  },
  {
   "cell_type": "markdown",
   "metadata": {},
   "source": [
    "## 5. Write a Python program to determine whether the given number is a Harshad Number?"
   ]
  },
  {
   "cell_type": "code",
   "execution_count": 12,
   "metadata": {},
   "outputs": [],
   "source": [
    "def ChkHarshad():\n",
    "    num = input('Enter a number to check for Harshad Number :')\n",
    "    try:\n",
    "        num = int(num)\n",
    "        total = 0\n",
    "        temp_num = num\n",
    "        while temp_num > 0:\n",
    "            pos = temp_num % 10            \n",
    "            total += pos\n",
    "            temp_num = temp_num//10\n",
    "        \n",
    "        if (num % total == 0):\n",
    "            print (f\"{num} is a Harshad Number!\")\n",
    "        else:\n",
    "            print (f\"{num} is not a Harshad Number!\")\n",
    "    except Exception as e:\n",
    "        print ('Error Occured :',e)"
   ]
  },
  {
   "cell_type": "code",
   "execution_count": 13,
   "metadata": {},
   "outputs": [
    {
     "name": "stdout",
     "output_type": "stream",
     "text": [
      "Enter a number to check for Harshad Number :90\n",
      "90 is a Harshad Number!\n"
     ]
    }
   ],
   "source": [
    "ChkHarshad()"
   ]
  },
  {
   "cell_type": "markdown",
   "metadata": {},
   "source": [
    "## 6. Write a Python program to print all pronic numbers between 1 and 100?"
   ]
  },
  {
   "cell_type": "code",
   "execution_count": 10,
   "metadata": {},
   "outputs": [],
   "source": [
    "def IsPronic(num):\n",
    "    try:\n",
    "        num = int(num)\n",
    "        for i in range(1,num+1):\n",
    "            if (i*(i+1) == num):\n",
    "                return True\n",
    "                break\n",
    "        return False\n",
    "    except Exception as e:\n",
    "        print ('Error Occured :',e)\n",
    "        \n",
    "def FindPronic(start,end):\n",
    "    nums = []\n",
    "    for i in range(start,end+1):\n",
    "        res = IsPronic(i)\n",
    "        if res:\n",
    "            nums.append(i)\n",
    "    if len(nums)>0:\n",
    "        print (f\"Pronic numbers(s) in the interval {start} to {end} is: {nums}\")\n",
    "    else:\n",
    "        print (f\"There is no Pronic number in the interval {start} to {end}.\")"
   ]
  },
  {
   "cell_type": "code",
   "execution_count": 11,
   "metadata": {},
   "outputs": [
    {
     "name": "stdout",
     "output_type": "stream",
     "text": [
      "Pronic numbers(s) in the interval 1 to 100 is: [2, 6, 12, 20, 30, 42, 56, 72, 90]\n"
     ]
    }
   ],
   "source": [
    "FindPronic(1,100)"
   ]
  },
  {
   "cell_type": "code",
   "execution_count": null,
   "metadata": {},
   "outputs": [],
   "source": []
  }
 ],
 "metadata": {
  "kernelspec": {
   "display_name": "Python 3",
   "language": "python",
   "name": "python3"
  },
  "language_info": {
   "codemirror_mode": {
    "name": "ipython",
    "version": 3
   },
   "file_extension": ".py",
   "mimetype": "text/x-python",
   "name": "python",
   "nbconvert_exporter": "python",
   "pygments_lexer": "ipython3",
   "version": "3.8.5"
  }
 },
 "nbformat": 4,
 "nbformat_minor": 4
}
