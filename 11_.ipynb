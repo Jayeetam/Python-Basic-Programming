{
 "cells": [
  {
   "cell_type": "markdown",
   "metadata": {},
   "source": [
    "##### 1. Write a Python program to find words which are greater than given length k?"
   ]
  },
  {
   "cell_type": "code",
   "execution_count": 10,
   "metadata": {},
   "outputs": [
    {
     "name": "stdout",
     "output_type": "stream",
     "text": [
      "['Jayeeta']\n"
     ]
    }
   ],
   "source": [
    "def length(k, str):\n",
    "    string = []\n",
    "    text = str.split(\" \")\n",
    "    for i in text:\n",
    "        if len(i) > k:\n",
    "            string.append(i)\n",
    "    return string\n",
    "     \n",
    "        \n",
    "k = 4\n",
    "str =\"Hi from Jayeeta\"\n",
    "print(length(k, str))"
   ]
  },
  {
   "cell_type": "markdown",
   "metadata": {},
   "source": [
    "##### 2. Write a Python program for removing i-th character from a string?"
   ]
  },
  {
   "cell_type": "code",
   "execution_count": 4,
   "metadata": {},
   "outputs": [
    {
     "name": "stdout",
     "output_type": "stream",
     "text": [
      "jayeetaaa\n"
     ]
    }
   ],
   "source": [
    "def remove(string, i): \n",
    "  \n",
    "    for j in range(len(string)):\n",
    "        if j == i:\n",
    "            string = string.replace(string[i], \"\", 1)\n",
    "    return string\n",
    "      \n",
    "if __name__ == '__main__':\n",
    "      \n",
    "    string = \"jayeoetaaa\"\n",
    "      \n",
    "    i = 4\n",
    "    print(remove(string, i))"
   ]
  },
  {
   "cell_type": "markdown",
   "metadata": {},
   "source": [
    "##### 3. Write a Python program to split and join a string?"
   ]
  },
  {
   "cell_type": "code",
   "execution_count": 7,
   "metadata": {},
   "outputs": [
    {
     "name": "stdout",
     "output_type": "stream",
     "text": [
      "['Jayeeta', 'Mondal']\n",
      "Jayeeta_Mondal\n"
     ]
    }
   ],
   "source": [
    "def split(string):\n",
    "    lst = string.split(' ')\n",
    "    return lst\n",
    "  \n",
    "def join(lst):\n",
    "    string = '_'.join(lst)\n",
    "    return string\n",
    "  \n",
    "if __name__ == '__main__':\n",
    "    string = 'Jayeeta Mondal'\n",
    "   \n",
    "    lst = split(string)\n",
    "    print(lst)\n",
    "  \n",
    "    new = join(lst)\n",
    "    print(new)"
   ]
  },
  {
   "cell_type": "markdown",
   "metadata": {},
   "source": [
    "##### 4. Write a Python to check if a given string is binary string or not?"
   ]
  },
  {
   "cell_type": "code",
   "execution_count": 21,
   "metadata": {},
   "outputs": [
    {
     "name": "stdout",
     "output_type": "stream",
     "text": [
      "No\n"
     ]
    }
   ],
   "source": [
    "def binary(string) :\n",
    "    t = \"01\"\n",
    "    count = 0\n",
    "    for char in string :\n",
    "        if char not in t :\n",
    "            count = 1\n",
    "            break\n",
    "        else :\n",
    "            pass\n",
    "    if count :\n",
    "        print(\"No\")\n",
    "    else :\n",
    "        print(\"Yes\")\n",
    " \n",
    " \n",
    "if __name__ == \"__main__\" :\n",
    "     string = \"011011102220111\"\n",
    "binary(string)"
   ]
  },
  {
   "cell_type": "markdown",
   "metadata": {},
   "source": [
    "##### 5. Write a Python program to find uncommon words from two Strings?"
   ]
  },
  {
   "cell_type": "code",
   "execution_count": 22,
   "metadata": {},
   "outputs": [
    {
     "name": "stdout",
     "output_type": "stream",
     "text": [
      " zebra bear tiger lion\n"
     ]
    }
   ],
   "source": [
    "def uncommon(a,b):\n",
    "    lst1 = a.split()\n",
    "    lst2 = b.split()\n",
    "    words = ''\n",
    "    for i in lst1:\n",
    "        if i not in lst2:\n",
    "            words = words+\" \"+i\n",
    "    for j in lst2:\n",
    "        if j not in lst1:\n",
    "            words = words+\" \"+j\n",
    "  \n",
    "    return words\n",
    "  \n",
    "a = \"monkey zebra bear\"\n",
    "b = \"monkey tiger lion\"\n",
    "print(uncommon(a,b))"
   ]
  },
  {
   "cell_type": "markdown",
   "metadata": {},
   "source": [
    "##### 6. Write a Python to find all duplicate characters in string?"
   ]
  },
  {
   "cell_type": "code",
   "execution_count": 10,
   "metadata": {},
   "outputs": [
    {
     "name": "stdout",
     "output_type": "stream",
     "text": [
      "a e\n"
     ]
    }
   ],
   "source": [
    "string = \"Jayeeeetaaa\"\n",
    "duplicate_char = []\n",
    "for char in string:\n",
    "    if string.count(char) > 1:\n",
    "        if char not in duplicate_char:\n",
    "            duplicate_char.append(char)\n",
    "print(*duplicate_char)"
   ]
  },
  {
   "cell_type": "markdown",
   "metadata": {},
   "source": [
    "##### 7. Write a Python Program to check if a string contains any special character?"
   ]
  },
  {
   "cell_type": "code",
   "execution_count": 8,
   "metadata": {},
   "outputs": [
    {
     "name": "stdout",
     "output_type": "stream",
     "text": [
      "Enter a string:Jayeeta@#$\n",
      "String contains special characters\n"
     ]
    }
   ],
   "source": [
    "import re\n",
    "\n",
    "string = input(\"Enter a string:\")\n",
    "spcl_char = re.compile(\"[@_!#$%^&*()<>?/\\|}{~:]\")\n",
    "\n",
    "if(spcl_char.search(string) == None):\n",
    "    print(\"String does not contain any special characters\")\n",
    "else:\n",
    "    print(\"String contains special characters\")"
   ]
  },
  {
   "cell_type": "code",
   "execution_count": null,
   "metadata": {},
   "outputs": [],
   "source": []
  }
 ],
 "metadata": {
  "kernelspec": {
   "display_name": "Python 3",
   "language": "python",
   "name": "python3"
  },
  "language_info": {
   "codemirror_mode": {
    "name": "ipython",
    "version": 3
   },
   "file_extension": ".py",
   "mimetype": "text/x-python",
   "name": "python",
   "nbconvert_exporter": "python",
   "pygments_lexer": "ipython3",
   "version": "3.8.5"
  }
 },
 "nbformat": 4,
 "nbformat_minor": 4
}
