{
 "cells": [
  {
   "cell_type": "markdown",
   "metadata": {},
   "source": [
    "## 1. Write a Python Program to Find LCM?"
   ]
  },
  {
   "cell_type": "code",
   "execution_count": 3,
   "metadata": {},
   "outputs": [
    {
     "name": "stdout",
     "output_type": "stream",
     "text": [
      "Enter the first no: 12\n",
      "Enter the second no: 15\n",
      "LCM of those given nos are 60.0\n"
     ]
    }
   ],
   "source": [
    "a = float(input(\"Enter the first no: \"))\n",
    "b = float(input(\"Enter the second no: \"))\n",
    "\n",
    "if a>b:\n",
    "    max = a\n",
    "else:\n",
    "    max = b\n",
    "while True:\n",
    "    if (max%a==0 and max%b==0):\n",
    "        print(\"LCM of those given nos are\",max)\n",
    "        break\n",
    "    max +=1    "
   ]
  },
  {
   "cell_type": "markdown",
   "metadata": {},
   "source": [
    "\n",
    "## 2. Write a Python Program to Find HCF?\n"
   ]
  },
  {
   "cell_type": "code",
   "execution_count": 24,
   "metadata": {},
   "outputs": [
    {
     "name": "stdout",
     "output_type": "stream",
     "text": [
      "Enter the first no: 5\n",
      "Enter the second no: 25\n",
      "The HCF is 5\n"
     ]
    }
   ],
   "source": [
    "a = int(input(\"Enter the first no: \"))\n",
    "b = int(input(\"Enter the second no: \"))\n",
    "\n",
    "if a>b:\n",
    "    mn=a\n",
    "else:    \n",
    "    mn=b\n",
    "for i in range(1, mn+1):\n",
    "    if a%i==0 and b%i==0:\n",
    "        hcf = i\n",
    "print(f\"The HCF is {hcf}\")"
   ]
  },
  {
   "cell_type": "markdown",
   "metadata": {},
   "source": [
    "# 3. Write a Python Program to Convert Decimal to Binary, Octal and Hexadecimal?"
   ]
  },
  {
   "cell_type": "code",
   "execution_count": 9,
   "metadata": {},
   "outputs": [
    {
     "name": "stdout",
     "output_type": "stream",
     "text": [
      "Enter the decimal no: 160\n",
      "0xa0 this is the hexadecimal value after converting\n",
      "0o240 this is the octal value after converting\n",
      "0b10100000 this is the binary value after converting\n"
     ]
    }
   ],
   "source": [
    "N = int(input(\"Enter the decimal no: \"))\n",
    "print(hex(N),\"this is the hexadecimal value after converting\")\n",
    "print(oct(N),\"this is the octal value after converting\")\n",
    "print(bin(N),\"this is the binary value after converting\")"
   ]
  },
  {
   "cell_type": "markdown",
   "metadata": {},
   "source": [
    "# 4. Write a Python Program To Find ASCII value of a character?"
   ]
  },
  {
   "cell_type": "code",
   "execution_count": 23,
   "metadata": {},
   "outputs": [
    {
     "name": "stdout",
     "output_type": "stream",
     "text": [
      "The ASCII value of m is 109\n"
     ]
    }
   ],
   "source": [
    "v = 'm'\n",
    "print(\"The ASCII value of\",v,\"is\",ord(v))"
   ]
  },
  {
   "cell_type": "markdown",
   "metadata": {},
   "source": [
    "# 5. Write a Python Program to Make a Simple Calculator with 4 basic mathematical operations?"
   ]
  },
  {
   "cell_type": "code",
   "execution_count": 16,
   "metadata": {},
   "outputs": [
    {
     "name": "stdout",
     "output_type": "stream",
     "text": [
      "1 Addition\n",
      "2 Subtraction\n",
      "3 Multiplication\n",
      "4 Division\n",
      "Please select your choice: 3\n",
      "Please enter the first number: 100\n",
      "Please enter the second number: 300\n",
      "100  *  300  =  30000\n"
     ]
    }
   ],
   "source": [
    "print(\"1 Addition\")\n",
    "print(\"2 Subtraction\")\n",
    "print(\"3 Multiplication\")\n",
    "print(\"4 Division\")\n",
    "\n",
    "select = input(\"Please select your choice: \")    \n",
    "    \n",
    "num1 = int (input (\"Please enter the first number: \"))    \n",
    "num2 = int (input (\"Please enter the second number: \"))\n",
    "\n",
    "if select == '1':    \n",
    "    print (num1, \" + \", num2, \" = \",(num1+num2))    \n",
    "elif select == '2':    \n",
    "    print (num1, \" - \", num2, \" = \",(num1-num2))    \n",
    "elif select == '3':    \n",
    "    print (num1, \" * \", num2, \" = \",(num1*num2))    \n",
    "elif choice == '4': \n",
    "    if num2== 0.0:\n",
    "        print(\"Divide by 0 error\")\n",
    "    else:\n",
    "        print (num1, \" / \", num2, \" = \",(num1/num2))    \n",
    "else:    \n",
    "    print (\"This is an invalid input\")   \n"
   ]
  },
  {
   "cell_type": "code",
   "execution_count": null,
   "metadata": {},
   "outputs": [],
   "source": []
  }
 ],
 "metadata": {
  "kernelspec": {
   "display_name": "Python 3",
   "language": "python",
   "name": "python3"
  },
  "language_info": {
   "codemirror_mode": {
    "name": "ipython",
    "version": 3
   },
   "file_extension": ".py",
   "mimetype": "text/x-python",
   "name": "python",
   "nbconvert_exporter": "python",
   "pygments_lexer": "ipython3",
   "version": "3.8.5"
  }
 },
 "nbformat": 4,
 "nbformat_minor": 4
}
