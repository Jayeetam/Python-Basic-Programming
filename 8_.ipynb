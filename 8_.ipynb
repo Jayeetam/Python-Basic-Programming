{
 "cells": [
  {
   "cell_type": "markdown",
   "metadata": {},
   "source": [
    "# 1. Write a Python Program to Add Two Matrices?"
   ]
  },
  {
   "cell_type": "markdown",
   "metadata": {},
   "source": [
    "# 2. Write a Python Program to Multiply Two Matrices?"
   ]
  },
  {
   "cell_type": "markdown",
   "metadata": {},
   "source": [
    "# 3. Write a Python Program to Transpose a Matrix?"
   ]
  },
  {
   "cell_type": "markdown",
   "metadata": {},
   "source": [
    "I am going to create a class which will do addition, multiplication & transpose of matrix."
   ]
  },
  {
   "cell_type": "code",
   "execution_count": 9,
   "metadata": {},
   "outputs": [],
   "source": [
    "class MatrixOps:\n",
    "    def __init__(self,m):\n",
    "        self.m = m\n",
    "    def add(self,other):\n",
    "        try:\n",
    "            rows = len(self.m)\n",
    "            cols = len(self.m[0])\n",
    "            res = [[None for i in range(cols)] for j in range(rows)]\n",
    "            if (len(self.m) == len(other.m) and len(self.m[0]) == len(other.m[0])):\n",
    "                for i in range(rows):\n",
    "                    for j in range(cols):\n",
    "                        res[i][j] = self.m[i][j] + other.m[i][j]\n",
    "                for r in res:\n",
    "                    print (r)\n",
    "            else:\n",
    "                print (\"Size mismatch!\")\n",
    "        except Exception as e:\n",
    "            print ('Error occured : ',e)\n",
    "                \n",
    "    def multiply(self,other):\n",
    "        try:\n",
    "            rows = len(self.m)\n",
    "            cols = len(other.m[0])\n",
    "            res = [[0 for i in range(len(other.m[0]))] for j in range(rows)]\n",
    "            for i in range(rows): # rows of matrix 1\n",
    "                for j in range(cols): # cols of matrix 1 \n",
    "                    for k in range(len(other.m)): # rows of matrix 2\n",
    "                        res[i][j] += self.m[i][k]*other.m[k][j]\n",
    "            \n",
    "            for r in res:\n",
    "                print (r)\n",
    "        except Exception as e:\n",
    "            print ('Error occured : ',e)                \n",
    "\n",
    "    def transpose(self):\n",
    "        try:\n",
    "            rows = len(self.m)\n",
    "            cols = len(self.m[0])\n",
    "            res = [[None for i in range(cols)] for j in range(rows)]\n",
    "            for i in range(rows): # rows of matrix 1\n",
    "                for j in range(cols): # cols of matrix 1 \n",
    "                    res[j][i] = self.m[i][j]\n",
    "            for r in res:\n",
    "                print (r)\n",
    "        except Exception as e:\n",
    "            print ('Error occured : ',e)\n",
    "            \n",
    "    def __str__(self):\n",
    "        return \"Matrix operation class that does addition, multiplication and transpose of a matrix\""
   ]
  },
  {
   "cell_type": "code",
   "execution_count": 10,
   "metadata": {},
   "outputs": [],
   "source": [
    "mat1 = MatrixOps([[12,42,23],[17,22,76],[11,25,71]])\n",
    "mat2 = MatrixOps([[1,4,3],[7,2,6],[1,2,7]])"
   ]
  },
  {
   "cell_type": "code",
   "execution_count": 11,
   "metadata": {},
   "outputs": [
    {
     "name": "stdout",
     "output_type": "stream",
     "text": [
      "[13, 46, 26]\n",
      "[24, 24, 82]\n",
      "[12, 27, 78]\n"
     ]
    }
   ],
   "source": [
    "mat1.add(mat2)"
   ]
  },
  {
   "cell_type": "code",
   "execution_count": 12,
   "metadata": {},
   "outputs": [
    {
     "name": "stdout",
     "output_type": "stream",
     "text": [
      "[329, 178, 449]\n",
      "[247, 264, 715]\n",
      "[257, 236, 680]\n"
     ]
    }
   ],
   "source": [
    "mat1.multiply(mat2)"
   ]
  },
  {
   "cell_type": "code",
   "execution_count": 13,
   "metadata": {},
   "outputs": [
    {
     "name": "stdout",
     "output_type": "stream",
     "text": [
      "[12, 17, 11]\n",
      "[42, 22, 25]\n",
      "[23, 76, 71]\n"
     ]
    }
   ],
   "source": [
    "mat1.transpose()"
   ]
  },
  {
   "cell_type": "markdown",
   "metadata": {},
   "source": [
    "# 4. Write a Python Program to Sort Words in Alphabetic Order?"
   ]
  },
  {
   "cell_type": "code",
   "execution_count": 2,
   "metadata": {},
   "outputs": [
    {
     "name": "stdout",
     "output_type": "stream",
     "text": [
      "Enter a sentence to sort in Alphabetic Order : hi this is Jayeeta\n",
      "Sentence after sorting: Jayeeta hi is this\n"
     ]
    }
   ],
   "source": [
    "def Sortwords():\n",
    "    input_str = input(\"Enter a sentence to sort in Alphabetic Order : \")\n",
    "    word = input_str.split()\n",
    "    word.sort()\n",
    "    sent = [s for s in word]\n",
    "    print (f\"Sentence after sorting: {' '.join(sent)}\")\n",
    "        \n",
    "Sortwords()"
   ]
  },
  {
   "cell_type": "markdown",
   "metadata": {},
   "source": [
    "# 5. Write a Python Program to Remove Punctuation From a String?"
   ]
  },
  {
   "cell_type": "code",
   "execution_count": 5,
   "metadata": {},
   "outputs": [],
   "source": [
    "import re\n",
    "\n",
    "def remove_punc():\n",
    "    input_str = input(\"Enter a sentence to remove punctuation : \")\n",
    "    res = re.sub(r'[^\\w\\s]','',input_str)\n",
    "    print (f\"Sentence after removing punctuation: {res}\")\n"
   ]
  },
  {
   "cell_type": "code",
   "execution_count": 6,
   "metadata": {},
   "outputs": [
    {
     "name": "stdout",
     "output_type": "stream",
     "text": [
      "Enter a sentence to remove punctuation : A Free Online Calculator, Quick and Easy, and Full Screen!\n",
      "Sentence after removing punctuation: A Free Online Calculator Quick and Easy and Full Screen\n"
     ]
    }
   ],
   "source": [
    "remove_punc()"
   ]
  },
  {
   "cell_type": "code",
   "execution_count": null,
   "metadata": {},
   "outputs": [],
   "source": []
  }
 ],
 "metadata": {
  "kernelspec": {
   "display_name": "Python 3",
   "language": "python",
   "name": "python3"
  },
  "language_info": {
   "codemirror_mode": {
    "name": "ipython",
    "version": 3
   },
   "file_extension": ".py",
   "mimetype": "text/x-python",
   "name": "python",
   "nbconvert_exporter": "python",
   "pygments_lexer": "ipython3",
   "version": "3.8.5"
  }
 },
 "nbformat": 4,
 "nbformat_minor": 4
}
