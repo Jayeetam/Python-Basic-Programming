{
 "cells": [
  {
   "cell_type": "markdown",
   "metadata": {},
   "source": [
    "### Create a function that takes a string and returns a string in which each character is repeated once.\n",
    "##### Examples\n",
    "##### double_char(&quot;String&quot;) ➞ &quot;SSttrriinngg&quot;\n",
    "##### double_char(&quot;Hello World!&quot;) ➞ &quot;HHeelllloo WWoorrlldd!!&quot;\n",
    "##### double_char(&quot;1234!_ &quot;) ➞ &quot;11223344!!__ &quot;"
   ]
  },
  {
   "cell_type": "code",
   "execution_count": 29,
   "metadata": {},
   "outputs": [
    {
     "name": "stdout",
     "output_type": "stream",
     "text": [
      "Enter a string: String\n",
      "SSttrriinngg\n"
     ]
    }
   ],
   "source": [
    "def double_char(str):\n",
    "    for i in str:\n",
    "        yield i * 2\n",
    "\n",
    "str = input(\"Enter a string: \")\n",
    "m=''.join(double_char(str))\n",
    "print(m)\n"
   ]
  },
  {
   "cell_type": "markdown",
   "metadata": {},
   "source": [
    "### Create a function that reverses a boolean value and returns the string &quot;boolean expected&quot; if another variable type is given.\n",
    "#### Examples\n",
    "##### reverse(True) ➞ False\n",
    "##### reverse(False) ➞ True\n",
    "##### reverse(0) ➞ &quot;boolean expected&quot;\n",
    "##### reverse(None) ➞ &quot;boolean expected&quot;"
   ]
  },
  {
   "cell_type": "code",
   "execution_count": 35,
   "metadata": {},
   "outputs": [
    {
     "name": "stdout",
     "output_type": "stream",
     "text": [
      "False\n",
      "True\n",
      "boolean expected\n",
      "boolean expected\n"
     ]
    }
   ],
   "source": [
    "def reverse(arg):\n",
    "    if isinstance(arg, bool):\n",
    "        return not arg\n",
    "    else:\n",
    "        return('boolean expected')\n",
    "    \n",
    "    \n",
    "    \n",
    "    \n",
    "print(reverse(True)) \n",
    "print(reverse(False))\n",
    "print(reverse(0)) \n",
    "print(reverse(None))"
   ]
  },
  {
   "cell_type": "markdown",
   "metadata": {},
   "source": [
    "### Create a function that returns the thickness (in meters) of a piece of paper after folding it n number of times. The paper starts off with a thickness of 0.5mm.\n",
    "#### Examples\n",
    "##### num_layers(1) ➞ &quot;0.001m&quot;\n",
    "##### Paper folded once is 1mm (equal to 0.001m)\n",
    "##### num_layers(4) ➞ &quot;0.008m&quot;\n",
    "##### Paper folded 4 times is 8mm (equal to 0.008m)\n",
    "##### num_layers(21) ➞ &quot;1048.576m&quot;\n",
    "##### Paper folded 21 times is 1048576mm (equal to 1048.576m)"
   ]
  },
  {
   "cell_type": "code",
   "execution_count": 39,
   "metadata": {},
   "outputs": [
    {
     "name": "stdout",
     "output_type": "stream",
     "text": [
      "1048.576\n"
     ]
    }
   ],
   "source": [
    "def fn(a):\n",
    "    res = 0.5\n",
    "    for _ in range(a):\n",
    "        res *= 2\n",
    "    return res / 1000 \n",
    "a=21\n",
    "print(fn(a))"
   ]
  },
  {
   "cell_type": "markdown",
   "metadata": {},
   "source": [
    "### Create a function that takes a single string as argument and returns an ordered list containing the indices of all capital letters in the string.\n",
    "#### Examples\n",
    "##### index_of_caps(&quot;eDaBiT&quot;) ➞ [1, 3, 5]\n",
    "##### index_of_caps(&quot;eQuINoX&quot;) ➞ [1, 3, 4, 6]\n",
    "##### index_of_caps(&quot;determine&quot;) ➞ []\n",
    "##### index_of_caps(&quot;STRIKE&quot;) ➞ [0, 1, 2, 3, 4, 5]\n",
    "##### index_of_caps(&quot;sUn&quot;) ➞ [1]"
   ]
  },
  {
   "cell_type": "code",
   "execution_count": 8,
   "metadata": {},
   "outputs": [
    {
     "name": "stdout",
     "output_type": "stream",
     "text": [
      "Enter the word: STRIKE\n",
      "[0, 1, 2, 3, 4, 5]\n"
     ]
    }
   ],
   "source": [
    "def index_of_caps(word):\n",
    "    cap = []\n",
    "    for i, letter in enumerate(word):\n",
    "        if letter.isupper():\n",
    "            cap.append(word.index(letter, i))\n",
    "    return cap\n",
    "\n",
    "word = input(\"Enter the word: \")\n",
    "\n",
    "print(index_of_caps(word))"
   ]
  },
  {
   "cell_type": "markdown",
   "metadata": {},
   "source": [
    "### Using list comprehensions, create a function that finds all even numbers from 1 to the given number.\n",
    "#### Examples\n",
    "##### find_even_nums(8) ➞ [2, 4, 6, 8]\n",
    "##### find_even_nums(4) ➞ [2, 4]\n",
    "##### find_even_nums(2) ➞ [2]"
   ]
  },
  {
   "cell_type": "code",
   "execution_count": 39,
   "metadata": {},
   "outputs": [
    {
     "name": "stdout",
     "output_type": "stream",
     "text": [
      " Please Enter the Maximum Number of the range : 4\n"
     ]
    },
    {
     "data": {
      "text/plain": [
       "[2, 4]"
      ]
     },
     "execution_count": 39,
     "metadata": {},
     "output_type": "execute_result"
    }
   ],
   "source": [
    "def find_even_nums(num):\n",
    "    return[x for x in range(1, num+1) if(x % 2 == 0)]\n",
    "            \n",
    "\n",
    "num = int(input(\" Please Enter the Maximum Number of the range : \"))\n",
    "find_even_nums(num)"
   ]
  },
  {
   "cell_type": "code",
   "execution_count": null,
   "metadata": {},
   "outputs": [],
   "source": []
  }
 ],
 "metadata": {
  "kernelspec": {
   "display_name": "Python 3",
   "language": "python",
   "name": "python3"
  },
  "language_info": {
   "codemirror_mode": {
    "name": "ipython",
    "version": 3
   },
   "file_extension": ".py",
   "mimetype": "text/x-python",
   "name": "python",
   "nbconvert_exporter": "python",
   "pygments_lexer": "ipython3",
   "version": "3.8.5"
  }
 },
 "nbformat": 4,
 "nbformat_minor": 4
}
