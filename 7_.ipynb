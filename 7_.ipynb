{
 "cells": [
  {
   "cell_type": "markdown",
   "metadata": {},
   "source": [
    "# 1. Write a Python Program to find sum of array?"
   ]
  },
  {
   "cell_type": "code",
   "execution_count": 26,
   "metadata": {},
   "outputs": [
    {
     "data": {
      "text/plain": [
       "32"
      ]
     },
     "execution_count": 26,
     "metadata": {},
     "output_type": "execute_result"
    }
   ],
   "source": [
    "def arraysum(a):\n",
    "    sum = 0\n",
    "    for i in a:\n",
    "        sum = sum+i\n",
    "    return(sum)\n",
    "a=[1,2,3,4,6,7,9]\n",
    "arraysum(a)"
   ]
  },
  {
   "cell_type": "markdown",
   "metadata": {},
   "source": [
    "# 2. Write a Python Program to find largest element in an array?"
   ]
  },
  {
   "cell_type": "code",
   "execution_count": 28,
   "metadata": {},
   "outputs": [
    {
     "data": {
      "text/plain": [
       "78"
      ]
     },
     "execution_count": 28,
     "metadata": {},
     "output_type": "execute_result"
    }
   ],
   "source": [
    "def largest(a,n):\n",
    "    max = a[0]\n",
    "    for i in range(1,n):\n",
    "        if a[i]>max:\n",
    "            max=a[i]\n",
    "        return max  \n",
    "    \n",
    "a =[78,23,32,43]\n",
    "n = len(a)\n",
    "largest(a,n)"
   ]
  },
  {
   "cell_type": "markdown",
   "metadata": {},
   "source": [
    "# 3. Write a Python Program for array rotation?"
   ]
  },
  {
   "cell_type": "code",
   "execution_count": 2,
   "metadata": {},
   "outputs": [
    {
     "name": "stdout",
     "output_type": "stream",
     "text": [
      "Rotated array is: \n",
      "[3, 4, 5, 6, 1, 2]\n"
     ]
    }
   ],
   "source": [
    "def Arrayrotation(a,d):\n",
    "    n=len(a)\n",
    "    a[:]=a[d:n]+a[0:d]\n",
    "    return a\n",
    "\n",
    "array = [1, 2, 3, 4, 5, 6]\n",
    "\n",
    "print(\"Rotated array is: \")\n",
    "print(Arrayrotation(array,2)) "
   ]
  },
  {
   "cell_type": "markdown",
   "metadata": {},
   "source": [
    "# 4. Write a Python Program to Split the array and add the first part to the end?"
   ]
  },
  {
   "cell_type": "code",
   "execution_count": 8,
   "metadata": {},
   "outputs": [
    {
     "name": "stdout",
     "output_type": "stream",
     "text": [
      "The list is : [25, 55, 88, 33, 77, 11, 12, 75]\n",
      "The split_list method is being called\n",
      "33 77 11 12 75 25 55 88 "
     ]
    }
   ],
   "source": [
    "def splitarray(lst, n_val, k_val):\n",
    "    for i in range(0, k_val):\n",
    "        first_val = lst[0]\n",
    "        for k in range(0, n_val-1):\n",
    "            lst[k] = lst[k + 1]\n",
    "        lst[n_val-1] = first_val\n",
    "list1 = [25,55,88,33,77,11,12,75]\n",
    "n = len(list1)\n",
    "position = 3\n",
    "print(\"The list is :\",list1)\n",
    "print(\"The split_list method is being called\")\n",
    "splitarray(list1, n, position)\n",
    "for i in range(0, n):\n",
    "    print(list1[i], end=\" \")"
   ]
  },
  {
   "cell_type": "markdown",
   "metadata": {},
   "source": [
    "# 5. Write a Python Program to check if given array is Monotonic?"
   ]
  },
  {
   "cell_type": "code",
   "execution_count": 21,
   "metadata": {},
   "outputs": [
    {
     "name": "stdout",
     "output_type": "stream",
     "text": [
      "True\n"
     ]
    }
   ],
   "source": [
    "def monotonic(n):\n",
    "    return all(n[i]>=n[i+1] for i in range (len(n)-1))\n",
    "    all(n[i]<=n[i+1] for i in range (len(n)-1))\n",
    "\n",
    "n=[8,7,4]\n",
    "\n",
    "print(monotonic(n))"
   ]
  },
  {
   "cell_type": "code",
   "execution_count": 24,
   "metadata": {},
   "outputs": [
    {
     "name": "stdout",
     "output_type": "stream",
     "text": [
      "False\n"
     ]
    }
   ],
   "source": [
    "n=[9,8,7,6,9]\n",
    "print(monotonic(n))"
   ]
  },
  {
   "cell_type": "code",
   "execution_count": null,
   "metadata": {},
   "outputs": [],
   "source": []
  },
  {
   "cell_type": "code",
   "execution_count": null,
   "metadata": {},
   "outputs": [],
   "source": []
  }
 ],
 "metadata": {
  "kernelspec": {
   "display_name": "Python 3",
   "language": "python",
   "name": "python3"
  },
  "language_info": {
   "codemirror_mode": {
    "name": "ipython",
    "version": 3
   },
   "file_extension": ".py",
   "mimetype": "text/x-python",
   "name": "python",
   "nbconvert_exporter": "python",
   "pygments_lexer": "ipython3",
   "version": "3.8.5"
  }
 },
 "nbformat": 4,
 "nbformat_minor": 4
}
