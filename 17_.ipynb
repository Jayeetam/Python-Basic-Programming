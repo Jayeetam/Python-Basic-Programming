{
 "cells": [
  {
   "cell_type": "markdown",
   "metadata": {},
   "source": [
    "### Create a function that takes three arguments a, b, c and returns the sum of the numbers that are evenly divided by c from the range a, b inclusive.\n",
    "##### Examples\n",
    "evenly_divisible(1, 10, 20) ➞ 0\n",
    "##### No number between 1 and 10 can be evenly divided by 20.\n",
    "evenly_divisible(1, 10, 2) ➞ 30\n",
    "##### 2 + 4 + 6 + 8 + 10 = 30\n",
    "evenly_divisible(1, 10, 3) ➞ 18\n",
    "##### 3 + 6 + 9 = 18"
   ]
  },
  {
   "cell_type": "code",
   "execution_count": 6,
   "metadata": {},
   "outputs": [
    {
     "name": "stdout",
     "output_type": "stream",
     "text": [
      "30\n"
     ]
    }
   ],
   "source": [
    "def evenly_divisible(a, b, c):\n",
    "    sum = 0\n",
    "    for i in range(a, b + 1):\n",
    "        if (i % c == 0):\n",
    "            sum += i\n",
    "    return sum\n",
    "\n",
    "if __name__==\"__main__\":\n",
    "    a = 1\n",
    "    b = 10\n",
    "    c = 2\n",
    "\n",
    "    print(evenly_divisible(a, b, c))"
   ]
  },
  {
   "cell_type": "markdown",
   "metadata": {},
   "source": [
    "### Create a function that returns True if a given inequality expression is correct and False otherwise."
   ]
  },
  {
   "cell_type": "markdown",
   "metadata": {},
   "source": [
    "#### Examples\n",
    "##### correct_signs(&quot;3 &lt; 7 &lt; 11&quot;) ➞ True\n",
    "##### correct_signs(&quot;13 &gt; 44 &gt; 33 &gt; 1&quot;) ➞ False\n",
    "##### correct_signs(&quot;1 &lt; 2 &lt; 6 &lt; 9 &gt; 3&quot;) ➞ True"
   ]
  },
  {
   "cell_type": "code",
   "execution_count": 9,
   "metadata": {},
   "outputs": [
    {
     "name": "stdout",
     "output_type": "stream",
     "text": [
      "True\n",
      "False\n",
      "True\n"
     ]
    }
   ],
   "source": [
    "def check(s):\n",
    "    r=eval(s)\n",
    "    if r:\n",
    "        return True\n",
    "    else:\n",
    "        return False \n",
    "\n",
    "\n",
    "print(check(\"3 < 7 < 11\"))\n",
    "print(check(\"13 > 44 > 33 > 1\"))\n",
    "print(check(\"1 < 2 < 6< 9 > 3\"))"
   ]
  },
  {
   "cell_type": "markdown",
   "metadata": {},
   "source": [
    "### Create a function that replaces all the vowels in a string with a specified character."
   ]
  },
  {
   "cell_type": "markdown",
   "metadata": {},
   "source": [
    "#### Examples\n",
    "##### replace_vowels(&quot;the aardvark&quot;, &quot;#&quot;) ➞ &quot;th# ##rdv#rk&quot;\n",
    "##### replace_vowels(&quot;minnie mouse&quot;, &quot;?&quot;) ➞ &quot;m?nn?? m??s?&quot;\n",
    "##### replace_vowels(&quot;shakespeare&quot;, &quot;*&quot;) ➞ &quot;sh*k*sp**r*&quot;"
   ]
  },
  {
   "cell_type": "code",
   "execution_count": 13,
   "metadata": {},
   "outputs": [
    {
     "name": "stdout",
     "output_type": "stream",
     "text": [
      "Enter the string:  the aardvark\n",
      "Enter the specified character: #\n",
      "After replacing vowels with the specified character: th# ##rdv#rk\n"
     ]
    }
   ],
   "source": [
    "def replace_vowels(test_str, K):\n",
    "    vowels = 'AEIOUaeiou'\n",
    "    for i in vowels:\n",
    "        test_str = test_str.replace(i, K)\n",
    "    return test_str\n",
    "\n",
    "\n",
    "input_str = input(\"Enter the string:  \")\n",
    "K = input(\"Enter the specified character: \")\n",
    "\n",
    "print(\"After replacing vowels with the specified character:\",replace_vowels(input_str, K))\n"
   ]
  },
  {
   "cell_type": "markdown",
   "metadata": {},
   "source": [
    "### Write a function that calculates the factorial of a number recursively."
   ]
  },
  {
   "cell_type": "markdown",
   "metadata": {},
   "source": [
    "#### Examples"
   ]
  },
  {
   "cell_type": "markdown",
   "metadata": {},
   "source": [
    "##### factorial(5) ➞ 120\n",
    "##### factorial(3) ➞ 6\n",
    "##### factorial(1) ➞ 1\n",
    "##### factorial(0) ➞ 1"
   ]
  },
  {
   "cell_type": "code",
   "execution_count": 17,
   "metadata": {},
   "outputs": [
    {
     "name": "stdout",
     "output_type": "stream",
     "text": [
      "Enter a number: 0\n",
      "Factorial of 0 is 1\n"
     ]
    }
   ],
   "source": [
    "def factorial(n):\n",
    "    if n == 0:\n",
    "        return 1\n",
    "    return n * factorial(n-1)\n",
    "\n",
    "num = int(input(\"Enter a number: \"))\n",
    "print(\"Factorial of\", num, \"is\",factorial(num))"
   ]
  },
  {
   "cell_type": "markdown",
   "metadata": {},
   "source": [
    "### Hamming distance is the number of characters that differ between two strings.\n",
    "#### To illustrate:\n",
    "##### String1: &quot;abcbba&quot;\n",
    "##### String2: &quot;abcbda&quot;\n",
    "##### Hamming Distance: 1 - &quot;b&quot; vs. &quot;d&quot; is the only difference.\n",
    "### Create a function that computes the hamming distance between two strings.\n",
    "#### Examples\n",
    "##### hamming_distance(&quot;abcde&quot;, &quot;bcdef&quot;) ➞ 5\n",
    "##### hamming_distance(&quot;abcde&quot;, &quot;abcde&quot;) ➞ 0\n",
    "##### hamming_distance(&quot;strong&quot;, &quot;strung&quot;) ➞ 1"
   ]
  },
  {
   "cell_type": "code",
   "execution_count": 19,
   "metadata": {},
   "outputs": [
    {
     "name": "stdout",
     "output_type": "stream",
     "text": [
      "Enter the first string: abcde\n",
      "Enter the second string: bcdef\n",
      "5\n"
     ]
    }
   ],
   "source": [
    "def hamming_distance(str1, str2):\n",
    "    i = 0\n",
    "    count = 0\n",
    "\n",
    "    while(i < len(str1)):\n",
    "        if(str1[i] != str2[i]):\n",
    "            count += 1\n",
    "        i += 1\n",
    "    return count\n",
    "\n",
    "str1 = input(\"Enter the first string: \")\n",
    "str2 = input(\"Enter the second string: \")\n",
    "\n",
    "print(hamming_distance(str1, str2))"
   ]
  },
  {
   "cell_type": "code",
   "execution_count": null,
   "metadata": {},
   "outputs": [],
   "source": []
  }
 ],
 "metadata": {
  "kernelspec": {
   "display_name": "Python 3",
   "language": "python",
   "name": "python3"
  },
  "language_info": {
   "codemirror_mode": {
    "name": "ipython",
    "version": 3
   },
   "file_extension": ".py",
   "mimetype": "text/x-python",
   "name": "python",
   "nbconvert_exporter": "python",
   "pygments_lexer": "ipython3",
   "version": "3.8.5"
  }
 },
 "nbformat": 4,
 "nbformat_minor": 4
}
