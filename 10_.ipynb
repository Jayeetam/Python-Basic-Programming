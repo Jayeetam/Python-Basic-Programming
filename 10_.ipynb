{
 "cells": [
  {
   "cell_type": "markdown",
   "metadata": {},
   "source": [
    "##### 1. Write a Python program to find sum of elements in list?"
   ]
  },
  {
   "cell_type": "code",
   "execution_count": 4,
   "metadata": {},
   "outputs": [
    {
     "name": "stdout",
     "output_type": "stream",
     "text": [
      "The sum of elements in list is: 28\n"
     ]
    }
   ],
   "source": [
    "sum = 0\n",
    "\n",
    "lst = [1,2,3,4,5,6,7]\n",
    "\n",
    "for i in range(0, len(lst)):\n",
    "    sum= sum + lst[i]\n",
    "\n",
    "print(\"The sum of elements in list is:\", sum)"
   ]
  },
  {
   "cell_type": "markdown",
   "metadata": {},
   "source": [
    "##### 2. Write a Python program to Multiply all numbers in the list?"
   ]
  },
  {
   "cell_type": "code",
   "execution_count": 7,
   "metadata": {},
   "outputs": [
    {
     "name": "stdout",
     "output_type": "stream",
     "text": [
      "6000\n",
      "1716\n",
      "181440\n"
     ]
    }
   ],
   "source": [
    "def listMultiplication(lst):\n",
    "    \n",
    "    multiply=1\n",
    "    for i in lst:\n",
    "        multiply = multiply*i\n",
    "    return multiply\n",
    "\n",
    "lst1 = [10,20,30]\n",
    "lst2 = [11,12,13]\n",
    "lst3 = [8,9,7,6,5,4,3]\n",
    "\n",
    "print(listMultiplication(lst1))\n",
    "print(listMultiplication(lst2))\n",
    "print(listMultiplication(lst3))\n",
    "\n",
    "        "
   ]
  },
  {
   "cell_type": "markdown",
   "metadata": {},
   "source": [
    "##### 3. Write a Python program to find smallest number in a list?"
   ]
  },
  {
   "cell_type": "code",
   "execution_count": 9,
   "metadata": {},
   "outputs": [
    {
     "name": "stdout",
     "output_type": "stream",
     "text": [
      "Enter the total no. of elements in list: 5\n",
      "Enter the elements: 12\n",
      "Enter the elements: 23\n",
      "Enter the elements: 21\n",
      "Enter the elements: 76\n",
      "Enter the elements: 90\n",
      "The smallest no in the list is:  12\n"
     ]
    }
   ],
   "source": [
    "lst =[]\n",
    "\n",
    "num = int(input(\"Enter the total no. of elements in list: \"))\n",
    "for i in range(1, num+1):\n",
    "    e = int(input(\"Enter the elements: \"))\n",
    "    lst.append(e)\n",
    "    \n",
    "print(\"The smallest no in the list is: \", min(lst))"
   ]
  },
  {
   "cell_type": "markdown",
   "metadata": {},
   "source": [
    "##### 4. Write a Python program to find largest number in a list?"
   ]
  },
  {
   "cell_type": "code",
   "execution_count": 11,
   "metadata": {},
   "outputs": [
    {
     "name": "stdout",
     "output_type": "stream",
     "text": [
      "Enter the total no. of elements in list: 5\n",
      "Enter the elements: 2\n",
      "Enter the elements: 3\n",
      "Enter the elements: 6\n",
      "Enter the elements: 7\n",
      "Enter the elements: 13\n",
      "The largest no in the list is:  13\n"
     ]
    }
   ],
   "source": [
    "lst =[]\n",
    "\n",
    "num = int(input(\"Enter the total no. of elements in list: \"))\n",
    "for i in range(1, num+1):\n",
    "    e = int(input(\"Enter the elements: \"))\n",
    "    lst.append(e)\n",
    "    \n",
    "print(\"The largest no in the list is: \", max(lst))"
   ]
  },
  {
   "cell_type": "markdown",
   "metadata": {},
   "source": [
    "##### 5. Write a Python program to find second largest number in a list?"
   ]
  },
  {
   "cell_type": "code",
   "execution_count": 1,
   "metadata": {},
   "outputs": [
    {
     "name": "stdout",
     "output_type": "stream",
     "text": [
      "Enter the total no. of elements in list: 4\n",
      "Enter the elements: 12\n",
      "Enter the elements: 23\n",
      "Enter the elements: 33\n",
      "Enter the elements: 11\n",
      "The second largest no in the list is:  23\n"
     ]
    }
   ],
   "source": [
    "lst =[]\n",
    "\n",
    "num = int(input(\"Enter the total no. of elements in list: \"))\n",
    "for i in range(1, num+1):\n",
    "    e = int(input(\"Enter the elements: \"))\n",
    "    lst.append(e)\n",
    "lst.sort()\n",
    "    \n",
    "print(\"The second largest no in the list is: \", lst[-2])"
   ]
  },
  {
   "cell_type": "markdown",
   "metadata": {},
   "source": [
    "##### 6. Write a Python program to find N largest elements from a list?"
   ]
  },
  {
   "cell_type": "code",
   "execution_count": 9,
   "metadata": {},
   "outputs": [
    {
     "name": "stdout",
     "output_type": "stream",
     "text": [
      "[4566, 900, 876, 789, 675]\n"
     ]
    }
   ],
   "source": [
    "def Nmax(lst, N):\n",
    "    result = []\n",
    "  \n",
    "    for i in range(0, N): \n",
    "        max = 0\n",
    "        for j in range(len(lst)):     \n",
    "            if lst[j] > max:\n",
    "                max = lst[j]\n",
    "                  \n",
    "        lst.remove(max)\n",
    "        result.append(max)\n",
    "          \n",
    "    return result\n",
    "lst1 = [133,233,675,789,900,876,4566,433,32,12,11]\n",
    "N = 5\n",
    "print(Nmax(lst1, N))\n"
   ]
  },
  {
   "cell_type": "markdown",
   "metadata": {},
   "source": [
    "##### 7. Write a Python program to print even numbers in a list?"
   ]
  },
  {
   "cell_type": "code",
   "execution_count": 10,
   "metadata": {},
   "outputs": [
    {
     "name": "stdout",
     "output_type": "stream",
     "text": [
      "Even numbers in the list:  [34, 66, 76, 876]\n"
     ]
    }
   ],
   "source": [
    "lst = [11,23,34,45,66,76,87,876]\n",
    " \n",
    "even = [i for i in lst if i % 2 == 0]\n",
    "print(\"Even numbers in the list: \", even)"
   ]
  },
  {
   "cell_type": "markdown",
   "metadata": {},
   "source": [
    "##### 8. Write a Python program to print odd numbers in a List?"
   ]
  },
  {
   "cell_type": "code",
   "execution_count": 19,
   "metadata": {},
   "outputs": [
    {
     "name": "stdout",
     "output_type": "stream",
     "text": [
      "11 23 45 87 "
     ]
    }
   ],
   "source": [
    "lst = [11,23,34,45,66,76,87,876]\n",
    "  \n",
    "for i in lst:\n",
    "      if i % 2 != 0:\n",
    "        print(i, end= \" \")"
   ]
  },
  {
   "cell_type": "markdown",
   "metadata": {},
   "source": [
    "##### 9. Write a Python program to Remove empty List from List?"
   ]
  },
  {
   "cell_type": "code",
   "execution_count": 24,
   "metadata": {},
   "outputs": [
    {
     "name": "stdout",
     "output_type": "stream",
     "text": [
      "After removing empty list:  [100, 700, 88, 78, 99, 25, 77, 22, 79, 455]\n"
     ]
    }
   ],
   "source": [
    "lst = [100, 700,[], 88, 78, 99, [], 25, 77, [], 22, 79, [], [], 455]\n",
    "final = [i for i in lst if i != []]\n",
    " \n",
    "print (\"After removing empty list: \", str(final))"
   ]
  },
  {
   "cell_type": "markdown",
   "metadata": {},
   "source": [
    "##### 10. Write a Python program to Cloning or Copying a list?"
   ]
  },
  {
   "cell_type": "code",
   "execution_count": 25,
   "metadata": {},
   "outputs": [
    {
     "name": "stdout",
     "output_type": "stream",
     "text": [
      "[65, 766, 322, 123, 98, 34, 11, 12]\n",
      "[65, 766, 322, 123, 98, 34, 11, 12]\n"
     ]
    }
   ],
   "source": [
    "original = [65,766,322,123,98,34,11,12]\n",
    "copy = list(original)\n",
    "print(original)\n",
    "print(copy)\n"
   ]
  },
  {
   "cell_type": "markdown",
   "metadata": {},
   "source": [
    "##### 11. Write a Python program to Count occurrences of an element in a list?"
   ]
  },
  {
   "cell_type": "code",
   "execution_count": 27,
   "metadata": {},
   "outputs": [
    {
     "name": "stdout",
     "output_type": "stream",
     "text": [
      "10 has occurred 7 times\n"
     ]
    }
   ],
   "source": [
    "def count(lst, n):\n",
    "    count = 0\n",
    "    for i in lst:\n",
    "        if (i == n):\n",
    "            count = count + 1\n",
    "    return count\n",
    " \n",
    "\n",
    "lst = [10,10,67,65,45,10,34,10,78,10,98,10,32,55,10,20]\n",
    "n= 10\n",
    "print('{} has occurred {} times'.format(n, count(lst, n)))"
   ]
  },
  {
   "cell_type": "code",
   "execution_count": null,
   "metadata": {},
   "outputs": [],
   "source": []
  }
 ],
 "metadata": {
  "kernelspec": {
   "display_name": "Python 3",
   "language": "python",
   "name": "python3"
  },
  "language_info": {
   "codemirror_mode": {
    "name": "ipython",
    "version": 3
   },
   "file_extension": ".py",
   "mimetype": "text/x-python",
   "name": "python",
   "nbconvert_exporter": "python",
   "pygments_lexer": "ipython3",
   "version": "3.8.5"
  }
 },
 "nbformat": 4,
 "nbformat_minor": 4
}
